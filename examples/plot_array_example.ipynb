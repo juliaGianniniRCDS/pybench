{
 "cells": [
  {
   "cell_type": "code",
   "execution_count": null,
   "metadata": {},
   "outputs": [],
   "source": [
    "import altair as alt\n",
    "import json\n",
    "import pandas as pd\n",
    "import numpy as np\n",
    "import warnings\n",
    "\n",
    "from pybench.chart import grouped_bar_chart\n",
    "import pybench.themes\n",
    "from pybench.utils import (\n",
    "    benchmark_json_to_pandas,\n",
    "    compute_speedup,\n",
    "    filter_by_string_in_column,\n",
    "    significant_round,\n",
    "    split_params_list,\n",
    ")"
   ]
  },
  {
   "cell_type": "code",
   "execution_count": null,
   "metadata": {},
   "outputs": [],
   "source": [
    "benchmark_json_to_pandas.__globals__['__file__']\n"
   ]
  },
  {
   "cell_type": "code",
   "execution_count": null,
   "metadata": {},
   "outputs": [],
   "source": [
    "# Read a pytest-benchmark json into a pandas DataFrame.\n",
    "# json_dir = '/location/of/data'\n",
    "df_h100 = benchmark_json_to_pandas(json_dir + 'benchmark_results_h100.json')\n",
    "df_a100 = benchmark_json_to_pandas(json_dir + 'benchmark_results_a100.json')"
   ]
  },
  {
   "cell_type": "code",
   "execution_count": null,
   "metadata": {},
   "outputs": [],
   "source": [
    "df_h100"
   ]
  },
  {
   "cell_type": "code",
   "execution_count": null,
   "metadata": {},
   "outputs": [],
   "source": [
    "# Split list 'params.shape' into multiple columns.\n",
    "# In this example the list is split in 'params.shape.0' and 'params.shape.1'.\n",
    "df_h100 = split_params_list(df_h100, 'params.shape')\n",
    "df_a100 = split_params_list(df_a100, 'params.shape')"
   ]
  },
  {
   "cell_type": "code",
   "execution_count": null,
   "metadata": {},
   "outputs": [],
   "source": [
    "# Split only \"fast\" operations into `cupy_df`.\n",
    "cupy_df_h100 = filter_by_string_in_column(df_h100, 'name', 'cupy')\n",
    "cupy_df_a100 = filter_by_string_in_column(df_a100, 'name', 'cupy')"
   ]
  },
  {
   "cell_type": "code",
   "execution_count": null,
   "metadata": {},
   "outputs": [],
   "source": [
    "# Split only \"slow\" operations into `numpy_df`.\n",
    "numpy_df_h100 = filter_by_string_in_column(df_h100, 'name', 'numpy')\n",
    "numpy_df_a100 = filter_by_string_in_column(df_a100, 'name', 'numpy')"
   ]
  },
  {
   "cell_type": "code",
   "execution_count": null,
   "metadata": {},
   "outputs": [],
   "source": [
    "# Define the list of operations we want to plot.\n",
    "operation_list = [\n",
    "    'FFT',\n",
    "    'Sum',\n",
    "    'Standard_Deviation',\n",
    "    'Elementwise',\n",
    "    'Matrix_Multiplication',\n",
    "    'Array_Slicing',\n",
    "    'SVD',\n",
    "    'Stencil'\n",
    "]"
   ]
  },
  {
   "cell_type": "code",
   "execution_count": null,
   "metadata": {},
   "outputs": [],
   "source": [
    "# Define the list of parameters we will use to match entries in \"fast\" and\n",
    "# \"slow\" DataFrames.\n",
    "param_list = ['params.shape.0', 'params.shape.1']"
   ]
  },
  {
   "cell_type": "code",
   "execution_count": null,
   "metadata": {},
   "outputs": [],
   "source": [
    "# Define the metric we want to use to compute the speedup.\n",
    "stats_param = 'stats.median'"
   ]
  },
  {
   "cell_type": "code",
   "execution_count": null,
   "metadata": {},
   "outputs": [],
   "source": [
    "# Compute the speedup DataFrame.\n",
    "speedups_df_h100 = compute_speedup(numpy_df_h100, cupy_df_h100, operation_list, param_list, stats_param)\n",
    "speedups_df_a100 = compute_speedup(numpy_df_a100, cupy_df_a100, operation_list, param_list, stats_param)"
   ]
  },
  {
   "cell_type": "code",
   "execution_count": null,
   "metadata": {},
   "outputs": [],
   "source": [
    "speedups_df_h100"
   ]
  },
  {
   "cell_type": "code",
   "execution_count": null,
   "metadata": {},
   "outputs": [],
   "source": [
    "# Remove dots from column names, altair doesn't seem to work with them.\n",
    "speedups_df_h100 = speedups_df_h100.rename(columns={'params.shape.0': 'shape0'})\n",
    "speedups_df_h100 = speedups_df_h100.rename(columns={'params.shape.1': 'shape1'})\n",
    "speedups_df_a100 = speedups_df_a100.rename(columns={'params.shape.0': 'shape0'})\n",
    "speedups_df_a100 = speedups_df_a100.rename(columns={'params.shape.1': 'shape1'})\n",
    "\n",
    "# Drop rows based on certain conditions, such as their shapes\n",
    "speedups_df_h100.drop(speedups_df_h100[speedups_df_h100['shape0'] == 20000].index, inplace=True)\n",
    "speedups_df_a100.drop(speedups_df_a100[speedups_df_a100['shape0'] == 20000].index, inplace=True)\n",
    "\n",
    "\n",
    "# Give human readable names to shapes and store them in column 'size'\n",
    "speedups_df_h100['size'] = speedups_df_h100['shape0'].apply(lambda row: '800MB' if row == 10000 else '8MB')\n",
    "speedups_df_a100['size'] = speedups_df_a100['shape0'].apply(lambda row: '800MB' if row == 10000 else '8MB')\n",
    "\n",
    "\n",
    "# Replace underscores with spaces in operation names for better printing\n",
    "speedups_df_h100['name'] = speedups_df_h100['name'].apply(lambda n: n.replace('_', ' '))\n",
    "speedups_df_a100['name'] = speedups_df_a100['name'].apply(lambda n: n.replace('_', ' '))"
   ]
  },
  {
   "cell_type": "code",
   "execution_count": null,
   "metadata": {},
   "outputs": [],
   "source": [
    "speedups_df_a100"
   ]
  },
  {
   "cell_type": "code",
   "execution_count": null,
   "metadata": {},
   "outputs": [],
   "source": [
    "# Enable theme \"RAPIDS\" from pybench.themes\n",
    "alt.themes.enable(\"RAPIDS\")\n",
    "\n",
    "# Create altair chart from `speedups_df`\n",
    "chart = grouped_bar_chart(\n",
    "    speedups_df_a100,\n",
    "    'size',\n",
    "    'speedup',\n",
    "    'name',\n",
    "    ['800MB', '8MB'],\n",
    "    y_title='GPU Speedup Over CPU',\n",
    "    y_scale_type='symlog',\n",
    "    y_tick_count=5,\n",
    "    group_title='Operation on A100 GPU',\n",
    "    bar_title_angle=-20,\n",
    "    legend_title='Array Size (MB)',\n",
    "    group_height=500,\n",
    "    group_width=80)"
   ]
  },
  {
   "cell_type": "code",
   "execution_count": null,
   "metadata": {},
   "outputs": [],
   "source": [
    "chart"
   ]
  },
  {
   "cell_type": "code",
   "execution_count": null,
   "metadata": {},
   "outputs": [],
   "source": [
    "# Save chart to HTML file\n",
    "# chart.save('plot_array_example.html')"
   ]
  }
 ],
 "metadata": {
  "kernelspec": {
   "display_name": "Python3.12 (p312_cupy_gpu)",
   "language": "python",
   "name": "py312_cupy_gpu"
  },
  "language_info": {
   "codemirror_mode": {
    "name": "ipython",
    "version": 3
   },
   "file_extension": ".py",
   "mimetype": "text/x-python",
   "name": "python",
   "nbconvert_exporter": "python",
   "pygments_lexer": "ipython3",
   "version": "3.12.8"
  }
 },
 "nbformat": 4,
 "nbformat_minor": 4
}
